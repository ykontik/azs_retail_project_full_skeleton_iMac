{
 "cells": [
  {
   "cell_type": "markdown",
   "metadata": {},
   "source": [
    "# AZS + Retail — Demo Notebook\n",
    "\n",
    "Демонстрация:\n",
    "- загрузка обученной модели из `models/` (per-SKU LGBM или XGB)\n",
    "- подготовка признаков через `make_features`\n",
    "- предсказание на одном примере (tail)\n",
    "- (опционально) быстрая дообучка на последних данных\n",
    "\n",
    "Запускать из корня репозитория или в Colab с примонтированным проектом."
   ]
  },
  {
   "cell_type": "code",
   "execution_count": null,
   "metadata": {},
   "outputs": [],
   "source": [
    "# Инициализация путей и импортов\n",
    "from pathlib import Path\n",
    "import os, sys, json\n",
    "import pandas as pd\n",
    "import numpy as np\n",
    "import joblib\n",
    "\n",
    "ROOT = Path.cwd()\n",
    "if not (ROOT / 'make_features.py').exists():\n",
    "    # если ноутбук запущен из другой папки\n",
    "    ROOT = Path(__file__).resolve().parents[2] if '__file__' in globals() else Path.cwd()\n",
    "if str(ROOT) not in sys.path:\n",
    "    sys.path.insert(0, str(ROOT))\n",
    "\n",
    "from make_features import make_features\n",
    "\n",
    "MODELS_DIR = ROOT / 'models'\n",
    "DATA_RAW = ROOT / 'data_raw'\n",
    "assert DATA_RAW.exists(), f'Не найдена папка {DATA_RAW}'\n",
    "\n",
    "store_nbr = 1\n",
    "family = 'AUTOMOTIVE'  # можно изменить на нужное family из train.csv\n",
    "\n",
    "def find_model(store:int, family:str):\n",
    "    base = f'{int(store)}__{str(family).replace(" ", "_")}'\n",
    "    candidates = [\n",
    "        MODELS_DIR / f'{base}.joblib',                # LGBM per-SKU\n",
    "        MODELS_DIR / f'{base}__xgb.joblib',          # XGB per-SKU\n",
    "        MODELS_DIR / f'{base}__optuna.joblib',       # ALT LGBM (optuna)\n",
    "    ]\n",
    "    for p in candidates:\n",
    "        if p.exists():\n",
    "            return p\n",
    "    return None\n",
    "\n",
    "model_path = find_model(store_nbr, family)\n",
    "model_path\n"
   ]
  },
  {
   "cell_type": "code",
   "execution_count": null,
   "metadata": {},
   "outputs": [],
   "source": [
    "# Загрузка данных и подготовка признаков\n",
    "train = pd.read_csv(DATA_RAW / 'train.csv', parse_dates=['date'])\n",
    "transactions = pd.read_csv(DATA_RAW / 'transactions.csv', parse_dates=['date'])\n",
    "oil = pd.read_csv(DATA_RAW / 'oil.csv', parse_dates=['date'])\n",
    "holidays = pd.read_csv(DATA_RAW / 'holidays_events.csv', parse_dates=['date'])\n",
    "stores = pd.read_csv(DATA_RAW / 'stores.csv')\n",
    "\n",
    "Xfull, yfull = make_features(train, holidays, transactions, oil, stores, dropna_target=False)\n",
    "mask = (Xfull['store_nbr']==int(store_nbr)) & (Xfull['family'].astype(str)==str(family))\n",
    "pair = Xfull.loc[mask].sort_values('date')\n",
    "assert not pair.empty, 'Нет данных для выбранной пары (проверьте store_nbr/family)'\n",
    "tail = pair.tail(90).copy()  # хвост для примера\n",
    "tail[['date','store_nbr','family']].head(3)\n"
   ]
  },
  {
   "cell_type": "code",
   "execution_count": null,
   "metadata": {},
   "outputs": [],
   "source": [
    "# Загрузка модели (или обучим мини-модель, если файл не найден)\n",
    "if model_path is None:\n",
    "    print('Модель не найдена — обучу мини-LGBM на выбранной паре (демо).')\n",
    "    try:\n",
    "        import lightgbm as lgb\n",
    "        # простая цель и фичи для демо\n",
    "        dfp = pair.dropna(subset=['sales']).copy()\n",
    "        feat_cols = [c for c in dfp.columns if c not in ('id','sales','date')]\n",
    "        X_tr = dfp[feat_cols]\n",
    "        y_tr = dfp['sales'].values\n",
    "        mdl = lgb.LGBMRegressor(n_estimators=100, random_state=42, verbose=-1)\n",
    "        mdl.fit(X_tr, y_tr, categorical_feature=[c for c in ['store_nbr','family','type','city','state','cluster'] if c in feat_cols])\n",
    "        model_path = MODELS_DIR / f'{int(store_nbr)}__{str(family).replace(" ", "_")}_demo.joblib'\n",
    "        joblib.dump(mdl, model_path)\n",
    "        print('Сохранено:', model_path)\n",
    "    except Exception as e:\n",
    "        raise RuntimeError(f'Не удалось обучить демо-модель: {e}')\n",
    "\n",
    "model = joblib.load(model_path)\n",
    "model, model_path\n"
   ]
  },
  {
   "cell_type": "code",
   "execution_count": null,
   "metadata": {},
   "outputs": [],
   "source": [
    "# Подготовим фичи согласно списку признаков модели и сделаем предсказание на последней строке\n",
    "def model_feature_names(m):\n",
    "    names = getattr(m, 'feature_name_', None)\n",
    "    if names is None and hasattr(m, 'feature_names_in_'):\n",
    "        try: names = list(m.feature_names_in_)\n",
    "        except: names = None\n",
    "    if names is None and hasattr(m, 'booster_'):\n",
    "        try: names = list(m.booster_.feature_name())\n",
    "        except: names = None\n",
    "    if names is None and hasattr(m, 'get_booster'):\n",
    "        try:\n",
    "            booster = m.get_booster()\n",
    "            if hasattr(booster, 'feature_names'):\n",
    "                names = list(booster.feature_names)\n",
    "        except: names = None\n",
    "    return names\n",
    "\n",
    "feat = model_feature_names(model)\n",
    "if not feat:\n",
    "    # запасной вариант — все числовые колонки\n",
    "    exclude = {'id','sales','date'}\n",
    "    feat = [c for c in tail.columns if c not in exclude and pd.api.types.is_numeric_dtype(tail[c])]\n",
    "\n",
    "row = tail.iloc[[-1]].copy()\n",
    "for c in feat:\n",
    "    if c not in row.columns:\n",
    "        row[c] = 0.0\n",
    "X = row[feat].copy()\n",
    "# приведение типов к числам для устойчивости (LGBM сам обработает категории, если нужны)\n",
    "X = X.apply(pd.to_numeric, errors='coerce').fillna(0.0)\n",
    "\n",
    "pred = float(model.predict(X)[0])\n",
    "print({'store_nbr': int(store_nbr), 'family': family, 'pred_qty': pred, 'n_features': len(feat)})\n"
   ]
  },
  {
   "cell_type": "markdown",
   "metadata": {},
   "source": [
    "## (Опционально) Дообучение на последних данных\n",
    "Ниже — пример быстрой дообучки LGBM на хвосте для демонстрации (не для продакшена)."
   ]
  },
  {
   "cell_type": "code",
   "execution_count": null,
   "metadata": {},
   "outputs": [],
   "source": [
    "try:\n",
    "    import lightgbm as lgb\n",
    "    dfp = pair.dropna(subset=['sales']).copy()\n",
    "    feat_cols = [c for c in dfp.columns if c not in ('id','sales','date')]\n",
    "    X_tr = dfp[feat_cols]\n",
    "    y_tr = dfp['sales'].values\n",
    "    mdl_ft = lgb.LGBMRegressor(n_estimators=200, learning_rate=0.05, random_state=42, verbose=-1)\n",
    "    mdl_ft.fit(X_tr, y_tr, categorical_feature=[c for c in ['store_nbr','family','type','city','state','cluster'] if c in feat_cols])\n",
    "    new_path = MODELS_DIR / f'{int(store_nbr)}__{str(family).replace(" ", "_")}_finetuned.joblib'\n",
    "    joblib.dump(mdl_ft, new_path)\n",
    "    print('Сохранено:', new_path)\n",
    "except Exception as e:\n",
    "    print('Пропускаю дообучение:', e)\n"
   ]
  },
  {
   "cell_type": "markdown",
   "metadata": {},
   "source": [
    "## (Опционально) Логирование в MLflow\n",
    "Если MLflow установлен, можно залогировать параметры/метрики."
   ]
  },
  {
   "cell_type": "code",
   "execution_count": null,
   "metadata": {},
   "outputs": [],
   "source": [
    "try:\n",
    "    import mlflow\n",
    "    mlflow.set_tracking_uri('sqlite:///mlflow.db')\n",
    "    with mlflow.start_run(run_name=f'demo_{store_nbr}_{family}'):\n",
    "        mlflow.log_params({'store_nbr': int(store_nbr), 'family': str(family)})\n",
    "        mlflow.log_param('model_file', str(model_path))\n",
    "        mlflow.log_metric('demo_pred_qty', float(pred))\n",
    "        print('MLflow: записан демо-запуск')\n",
    "except Exception as e:\n",
    "    print('MLflow недоступен или не установлен:', e)\n"
   ]
  }
 ],
 "metadata": {
  "kernelspec": {
   "display_name": "Python 3",
   "language": "python",
   "name": "python3"
  },
  "language_info": {
   "name": "python"
  }
 },
 "nbformat": 4,
 "nbformat_minor": 5
}
