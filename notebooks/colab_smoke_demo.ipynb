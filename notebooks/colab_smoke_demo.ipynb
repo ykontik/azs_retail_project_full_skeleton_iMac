{
  "cells": [
    {
      "cell_type": "markdown",
      "metadata": {},
      "source": [
        "# 🚀 AZS + Retail: Colab Smoke Demo\n",
        "\n",
        "Минимальный ноутбук для запуска демо-пайплайна без локальной установки."
      ]
    },
    {
      "cell_type": "markdown",
      "metadata": {},
      "source": [
        "## 1. Клонирование репозитория"
      ]
    },
    {
      "cell_type": "code",
      "metadata": {},
      "execution_count": null,
      "outputs": [],
      "source": [
        "!git clone https://github.com/ykontik/azs_retail_project_full_skeleton_iMac.git\n",
        "%cd azs_retail_project_full_skeleton_iMac"
      ]
    },
    {
      "cell_type": "markdown",
      "metadata": {},
      "source": [
        "## 2. Установка зависимостей"
      ]
    },
    {
      "cell_type": "code",
      "metadata": {},
      "execution_count": null,
      "outputs": [],
      "source": [
        "!python -m pip install -U pip\n",
        "!pip install -r requirements.txt\n",
        "!pip install -r requirements-dev.txt"
      ]
    },
    {
      "cell_type": "markdown",
      "metadata": {},
      "source": [
        "## 3. Smoke-пайплайн (игрушечные данные)\n",
        "Выполняем генерацию данных, ETL и обучение компактных моделей."
      ]
    },
    {
      "cell_type": "code",
      "metadata": {},
      "execution_count": null,
      "outputs": [],
      "source": [
        "!make demo"
      ]
    },
    {
      "cell_type": "markdown",
      "metadata": {},
      "source": [
        "## 4. Быстрая проверка артефактов\n",
        "```\n",
        "!cat data_dw/summary_metrics.txt\n",
        "!ls models | head\n",
        "```"
      ]
    },
    {
      "cell_type": "markdown",
      "metadata": {},
      "source": [
        "## 5. (Опционально) API и UI\n",
        "```\n",
        "!nohup uvicorn service.app:app --host 0.0.0.0 --port 8000 &\n",
        "!nohup streamlit run ui/dashboard.py --server.port 8501 &\n",
        "```\n",
        "Используйте ngrok/Cloud Run для проксирования."
      ]
    },
    {
      "cell_type": "markdown",
      "metadata": {},
      "source": [
        "## 6. Очистка\n",
        "Команда `!make clean-artifacts` освобождает место."
      ]
    }
  ],
  "metadata": {
    "kernelspec": {
      "display_name": "Python 3",
      "language": "python",
      "name": "python3"
    },
    "language_info": {
      "name": "python",
      "version": "3.10"
    }
  },
  "nbformat": 4,
  "nbformat_minor": 5
}