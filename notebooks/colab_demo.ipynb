{
 "cells": [
  {
   "cell_type": "markdown",
   "id": "7fb27b941602401d91542211134fc71a",
   "metadata": {},
   "source": [
    "# AZS + Retail — Colab Demo (быстрый старт)\n\n",
    "Этот ноутбук клонирует репозиторий, ставит зависимости, генерирует toy-данные, готовит фичи и обучает быстрый top-N для демо. Затем показываем метрики и пробуем локальный инференс без сервера.\n\n",
    "Перед запуском укажите ссылку на ваш GitHub-репозиторий в переменной `REPO_URL`."
   ]
  },
  {
   "cell_type": "code",
   "execution_count": null,
   "id": "acae54e37e7d407bbb7b55eff062a284",
   "metadata": {},
   "outputs": [],
   "source": [
    "#@title Параметры\n",
    "REPO_URL = \"https://github.com/USER/REPO.git\"  # <-- ЗАМЕНИТЕ на ваш репозиторий\n",
    "BRANCH = \"main\"\n",
    "\n",
    "import os\n",
    "import shutil\n",
    "\n",
    "work = '/content'\n",
    "repo_dir = os.path.join(work, 'azs_retail_project')\n",
    "if os.path.exists(repo_dir):\n",
    "    shutil.rmtree(repo_dir)\n",
    "print('Cloning repo...')\n",
    "!git clone -b $BRANCH $REPO_URL $repo_dir\n",
    "%cd $repo_dir\n",
    "print('Python version:')\n",
    "!python --version\n",
    "print('Upgrade pip and install requirements...')\n",
    "!pip -q install -U pip setuptools wheel\n",
    "!pip -q install -r requirements.txt -r requirements-dev.txt\n"
   ]
  },
  {
   "cell_type": "code",
   "execution_count": null,
   "id": "9a63283cbaf04dbcab1f6479b197f3a8",
   "metadata": {},
   "outputs": [],
   "source": [
    "# Генерация toy-данных и подготовка фич\n",
    "!python scripts/generate_toy_data.py\n",
    "!python validation.py\n",
    "!python etl.py\n",
    "!python features.py\n"
   ]
  },
  {
   "cell_type": "code",
   "execution_count": null,
   "id": "8dd0d8092fe74a7c96281538738b07e2",
   "metadata": {},
   "outputs": [],
   "source": [
    "# Быстрое обучение per-SKU моделей на маленьком top-N\n",
    "!python train_forecast.py \\\n",
    "  --train data_raw/train.csv \\\n",
    "  --transactions data_raw/transactions.csv \\\n",
    "  --oil data_raw/oil.csv \\\n",
    "  --holidays data_raw/holidays_events.csv \\\n",
    "  --stores data_raw/stores.csv \\\n",
    "  --models_dir models \\\n",
    "  --warehouse_dir data_dw \\\n",
    "  --top_n_sku 6 \\\n",
    "  --top_recent_days 60 \\\n",
    "  --valid_days 14\n"
   ]
  },
  {
   "cell_type": "code",
   "execution_count": null,
   "id": "72eea5119410473aa328ad9291626812",
   "metadata": {},
   "outputs": [],
   "source": [
    "# Просмотр метрик\n",
    "import pandas as pd\n",
    "\n",
    "metrics = pd.read_csv('data_dw/metrics_per_sku.csv')\n",
    "metrics.head(10)\n"
   ]
  },
  {
   "cell_type": "code",
   "execution_count": null,
   "id": "8edb47106e1a46a883d545849b8ab81b",
   "metadata": {},
   "outputs": [],
   "source": [
    "# Локальный инференс без сервера для одной модели\n",
    "import glob\n",
    "\n",
    "import joblib\n",
    "import numpy as np\n",
    "import pandas as pd\n",
    "\n",
    "models = sorted(glob.glob('models/*__*.joblib'))\n",
    "assert models, 'Нет обученных моделей. Проверьте предыдущую ячейку.'\n",
    "path = models[0]\n",
    "print('Using model:', path)\n",
    "mdl = joblib.load(path)\n",
    "feat_names = []\n",
    "if hasattr(mdl, 'feature_name_') and isinstance(mdl.feature_name_, list):\n",
    "    feat_names = mdl.feature_name_\n",
    "elif hasattr(mdl, 'feature_names_in_'):\n",
    "    feat_names = list(mdl.feature_names_in_)\n",
    "import duckdb\n",
    "\n",
    "df = duckdb.query(\"SELECT * FROM read_parquet('data_dw/features.parquet') ORDER BY date DESC LIMIT 1\").to_df()\n",
    "row = df.iloc[0]\n",
    "X = np.array([float(row.get(n, 0.0)) for n in feat_names], dtype=float).reshape(1, -1)\n",
    "float(mdl.predict(X)[0])\n"
   ]
  },
  {
   "cell_type": "markdown",
   "id": "10185d26023b46108eb7d9f57d49d2b3",
   "metadata": {},
   "source": [
    "## Опционально: запуск API и UI (локально в Colab)\n\n",
    "Для публичного доступа нужен туннель (ngrok). Для локальной проверки процессов:\n\n",
    "```bash\n",
    "!python -m uvicorn service.app:app --host 0.0.0.0 --port 8000 &\n",
    "!python -m streamlit run ui/dashboard.py --server.port 8501 --server.address 0.0.0.0 &\n",
    "```\n"
   ]
  }
 ],
 "metadata": {
  "kernelspec": {
   "display_name": "Python 3",
   "language": "python",
   "name": "python3"
  },
  "language_info": {
   "name": "python",
   "version": "3.10"
  }
 },
 "nbformat": 4,
 "nbformat_minor": 5
}
